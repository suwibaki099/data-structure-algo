{
 "cells": [
  {
   "cell_type": "code",
   "execution_count": 8,
   "id": "cbc0193a-aeec-4df7-94d7-31e8062d3c72",
   "metadata": {},
   "outputs": [
    {
     "name": "stdout",
     "output_type": "stream",
     "text": [
      "Simon is just walking around\n",
      "Sally is just walking around\n",
      "Tikachu is just walking around\n",
      "None\n"
     ]
    }
   ],
   "source": [
    "class Pets():\n",
    "    def __init__(self, animals):\n",
    "        self.animals = animals\n",
    "\n",
    "    def walk(self):\n",
    "        for animal in self.animals:\n",
    "            print(animal.walk())\n",
    "\n",
    "class Cat():\n",
    "    is_lazy = True\n",
    "\n",
    "    def __init__(self, name, age):\n",
    "        self.name = name\n",
    "        self.age = age\n",
    "\n",
    "    def walk(self):\n",
    "        return f'{self.name} is just walking around'\n",
    "\n",
    "class Simon(Cat):\n",
    "    def sing(self, sounds):\n",
    "        return f'{sounds}'\n",
    "\n",
    "class Sally(Cat):\n",
    "    def sing(self, sounds):\n",
    "        return f'{sounds}'\n",
    "\n",
    "class Tikachu(Cat):\n",
    "    def sing(self,sounds):\n",
    "        return f'{sounds}'\n",
    "\n",
    "\n",
    "my_cats = []\n",
    "cat1 = Simon('Simon', 10)\n",
    "cat2 = Sally('Sally', 15)\n",
    "cat3 = Tikachu('Tikachu', 5)\n",
    "\n",
    "my_cats.append(cat1)\n",
    "my_cats.append(cat2)\n",
    "my_cats.append(cat3)\n",
    "#OR my_cats = [Simon('Simon', 10), Sally('Sally', 15), Tikachu('Tikachu', 5)]\n",
    "\n",
    "my_pets = Pets(my_cats)\n",
    "\n",
    "print(my_pets.walk())"
   ]
  },
  {
   "cell_type": "markdown",
   "id": "6c06083a-739a-4e86-8932-d267e145320a",
   "metadata": {},
   "source": [
    "### 1 Add nother Cat"
   ]
  },
  {
   "cell_type": "markdown",
   "id": "e7e0aaa0-74a7-4b52-a4db-022ccacaafb7",
   "metadata": {},
   "source": [
    "### 2 Create a list of all of the pets (create 3 cat instances from the above)\n",
    "my_cats = []"
   ]
  },
  {
   "cell_type": "markdown",
   "id": "7678bf2b-9b7b-4f97-8202-9388170c27af",
   "metadata": {},
   "source": [
    "### 3 Instantiate the Pet class with all your cats use variable my_pets"
   ]
  },
  {
   "cell_type": "markdown",
   "id": "e2cad818-5b8a-499d-9efa-b3ab66d56313",
   "metadata": {},
   "source": [
    "### 4 Output all of the cats walking using the my_pets instance"
   ]
  }
 ],
 "metadata": {
  "kernelspec": {
   "display_name": "Python 3 (ipykernel)",
   "language": "python",
   "name": "python3"
  },
  "language_info": {
   "codemirror_mode": {
    "name": "ipython",
    "version": 3
   },
   "file_extension": ".py",
   "mimetype": "text/x-python",
   "name": "python",
   "nbconvert_exporter": "python",
   "pygments_lexer": "ipython3",
   "version": "3.12.1"
  }
 },
 "nbformat": 4,
 "nbformat_minor": 5
}
