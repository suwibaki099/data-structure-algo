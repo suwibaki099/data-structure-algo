{
 "cells": [
  {
   "cell_type": "code",
   "execution_count": 1,
   "id": "ad603f3b-85ec-4b57-88f3-b0aa6a2fb6cd",
   "metadata": {},
   "outputs": [
    {
     "name": "stdout",
     "output_type": "stream",
     "text": [
      "jandy\n"
     ]
    }
   ],
   "source": [
    "print('jandy')\n"
   ]
  },
  {
   "cell_type": "code",
   "execution_count": null,
   "id": "22b6a5b8-8992-4cc4-b753-4c1e80f14cde",
   "metadata": {},
   "outputs": [],
   "source": []
  }
 ],
 "metadata": {
  "kernelspec": {
   "display_name": "Python 3 (ipykernel)",
   "language": "python",
   "name": "python3"
  },
  "language_info": {
   "codemirror_mode": {
    "name": "ipython",
    "version": 3
   },
   "file_extension": ".py",
   "mimetype": "text/x-python",
   "name": "python",
   "nbconvert_exporter": "python",
   "pygments_lexer": "ipython3",
   "version": "3.12.1"
  }
 },
 "nbformat": 4,
 "nbformat_minor": 5
}
