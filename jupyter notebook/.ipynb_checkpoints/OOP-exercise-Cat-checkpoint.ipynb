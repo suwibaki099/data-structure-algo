{
 "cells": [
  {
   "cell_type": "code",
   "execution_count": 13,
   "id": "368ffa57-a815-4a97-8273-94bd5ea2ae1d",
   "metadata": {},
   "outputs": [
    {
     "name": "stdout",
     "output_type": "stream",
     "text": [
      "The oldest cat is 7 years old\n"
     ]
    }
   ],
   "source": [
    "class Cat:\n",
    "    species = 'mammal'\n",
    "    def __init__(self, name, age):\n",
    "        self.name = name\n",
    "        self.age = age\n",
    "\n",
    "cat1 = Cat('Mike', 3)\n",
    "cat2 = Cat('Mark', 7)\n",
    "cat3 = Cat('John', 6)\n",
    "\n",
    "def oldest_cat(*cats):\n",
    "    oldest = 0\n",
    "    for age in cats:\n",
    "        if age > oldest:\n",
    "            oldest = age\n",
    "\n",
    "    return oldest\n",
    "\n",
    "cats = oldest_cat(cat1.age, cat2.age, cat3.age)\n",
    "\n",
    "print(f'The oldest cat is {cats} years old')"
   ]
  },
  {
   "cell_type": "markdown",
   "id": "b165da01-0f36-40a1-a41f-7641dd3cd4b5",
   "metadata": {},
   "source": [
    "### 1 Instantiate the Cat object with 3 cats"
   ]
  },
  {
   "cell_type": "markdown",
   "id": "fcd370be-8cbd-442e-a4ba-e083b4ece3bd",
   "metadata": {},
   "source": [
    "### 2 Create a function that finds the oldest cat"
   ]
  },
  {
   "cell_type": "markdown",
   "id": "407ecc8c-063e-414b-896a-df2414cb10f8",
   "metadata": {},
   "source": [
    "### 3 Print out: \"The oldest cat is x years old.\". x will be the oldest cat age by using the function in #2"
   ]
  }
 ],
 "metadata": {
  "kernelspec": {
   "display_name": "Python 3 (ipykernel)",
   "language": "python",
   "name": "python3"
  },
  "language_info": {
   "codemirror_mode": {
    "name": "ipython",
    "version": 3
   },
   "file_extension": ".py",
   "mimetype": "text/x-python",
   "name": "python",
   "nbconvert_exporter": "python",
   "pygments_lexer": "ipython3",
   "version": "3.12.1"
  }
 },
 "nbformat": 4,
 "nbformat_minor": 5
}
